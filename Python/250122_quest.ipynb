{
  "nbformat": 4,
  "nbformat_minor": 0,
  "metadata": {
    "colab": {
      "provenance": [],
      "authorship_tag": "ABX9TyOPDJqdwWr/fKA2BK0GgFHO",
      "include_colab_link": true
    },
    "kernelspec": {
      "name": "python3",
      "display_name": "Python 3"
    },
    "language_info": {
      "name": "python"
    }
  },
  "cells": [
    {
      "cell_type": "markdown",
      "metadata": {
        "id": "view-in-github",
        "colab_type": "text"
      },
      "source": [
        "<a href=\"https://colab.research.google.com/github/haepada/Nomadcoder/blob/main/Python/250122_quest.ipynb\" target=\"_parent\"><img src=\"https://colab.research.google.com/assets/colab-badge.svg\" alt=\"Open In Colab\"/></a>"
      ]
    },
    {
      "cell_type": "code",
      "execution_count": 3,
      "metadata": {
        "colab": {
          "base_uri": "https://localhost:8080/"
        },
        "id": "wGDHvITQe6AS",
        "outputId": "62a81662-946d-4faa-92d9-5d8fc81b727f"
      },
      "outputs": [
        {
          "output_type": "stream",
          "name": "stdout",
          "text": [
            "Your tax bill is: $8316000.0\n"
          ]
        }
      ],
      "source": [
        "# 👇🏻 YOUR CODE 👇🏻:\n",
        "\n",
        "def get_yearly_revenue(monthly_revenue):\n",
        "  return monthly_revenue * 12\n",
        "\n",
        "def get_yearly_expenses(monthly_expenses):\n",
        "  return monthly_expenses * 12\n",
        "\n",
        "def get_tax_amount(profit):\n",
        "  if profit > 100000:\n",
        "    return 0.25 * profit\n",
        "  else:\n",
        "    return 0.15 * profit\n",
        "\n",
        "def apply_tax_credits(tax_amount, tax_credits):\n",
        "  return tax_amount * tax_credits\n",
        "\n",
        "# BLUEPRINT | DONT EDIT\n",
        "\n",
        "monthly_revenue = 5500000\n",
        "monthly_expenses = 2700000\n",
        "tax_credits = 0.01\n",
        "\n",
        "yearly_revenue = get_yearly_revenue(monthly_revenue)\n",
        "yearly_expenses = get_yearly_expenses(monthly_expenses)\n",
        "\n",
        "profit = yearly_revenue - yearly_expenses\n",
        "\n",
        "tax_amount = get_tax_amount(profit)\n",
        "\n",
        "final_tax_amount = tax_amount - apply_tax_credits(tax_amount, tax_credits)\n",
        "\n",
        "print(f\"Your tax bill is: ${final_tax_amount}\")\n",
        "\n",
        "# /BLUEPRINT"
      ]
    }
  ]
}